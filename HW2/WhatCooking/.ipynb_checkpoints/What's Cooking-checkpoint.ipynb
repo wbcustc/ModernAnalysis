{
 "cells": [
  {
   "cell_type": "markdown",
   "metadata": {},
   "source": [
    "#What's cooking"
   ]
  },
  {
   "cell_type": "markdown",
   "metadata": {},
   "source": [
    "This is the second part of programming assignment 2."
   ]
  },
  {
   "cell_type": "markdown",
   "metadata": {},
   "source": [
    "##a"
   ]
  },
  {
   "cell_type": "code",
   "execution_count": 1,
   "metadata": {
    "collapsed": false
   },
   "outputs": [],
   "source": [
    "import pandas as pd\n",
    "train = pd.read_json('./train.json')\n",
    "test = pd.read_json('./test.json')"
   ]
  },
  {
   "cell_type": "markdown",
   "metadata": {},
   "source": [
    "## b "
   ]
  },
  {
   "cell_type": "code",
   "execution_count": 2,
   "metadata": {
    "collapsed": false
   },
   "outputs": [
    {
     "name": "stdout",
     "output_type": "stream",
     "text": [
      "39774\n"
     ]
    }
   ],
   "source": [
    "print len(train)"
   ]
  },
  {
   "cell_type": "markdown",
   "metadata": {},
   "source": [
    "There are 39774 samples in the train set."
   ]
  },
  {
   "cell_type": "code",
   "execution_count": 3,
   "metadata": {
    "collapsed": false
   },
   "outputs": [
    {
     "name": "stdout",
     "output_type": "stream",
     "text": [
      "20\n",
      "set([u'irish', u'mexican', u'chinese', u'filipino', u'vietnamese', u'moroccan', u'brazilian', u'japanese', u'british', u'greek', u'indian', u'jamaican', u'french', u'spanish', u'russian', u'cajun_creole', u'thai', u'southern_us', u'korean', u'italian'])\n"
     ]
    }
   ],
   "source": [
    "categories = set(train['cuisine'])\n",
    "print len(categories)\n",
    "print categories"
   ]
  },
  {
   "cell_type": "markdown",
   "metadata": {},
   "source": [
    "There are 20 categories, as shown above."
   ]
  },
  {
   "cell_type": "code",
   "execution_count": 4,
   "metadata": {
    "collapsed": false
   },
   "outputs": [
    {
     "name": "stdout",
     "output_type": "stream",
     "text": [
      "6714\n"
     ]
    }
   ],
   "source": [
    "ingredients = set() \n",
    "train['ingredients'].map(lambda x : [ingredients.add(i) for i in x])\n",
    "ingredients = list(ingredients)\n",
    "print len(ingredients)"
   ]
  },
  {
   "cell_type": "markdown",
   "metadata": {},
   "source": [
    "There are 6714 unique ingredients."
   ]
  },
  {
   "cell_type": "markdown",
   "metadata": {},
   "source": [
    "##c"
   ]
  },
  {
   "cell_type": "code",
   "execution_count": 5,
   "metadata": {
    "collapsed": false
   },
   "outputs": [
    {
     "name": "stdout",
     "output_type": "stream",
     "text": [
      "(39774, 6714) (9944, 6714)\n"
     ]
    }
   ],
   "source": [
    "import numpy as np  \n",
    "    \n",
    "def invert_index(ingredients):\n",
    "    invert_indexes = dict()\n",
    "    for index,i in enumerate(ingredients):\n",
    "        invert_indexes[i] = index\n",
    "    return invert_indexes\n",
    "\n",
    "invert_indexes = invert_index(ingredients)\n",
    "dim = len(ingredients)\n",
    "\n",
    "def create_feats(data):    \n",
    "    feats = np.mat(np.zeros((len(data), dim)))\n",
    "    for index, ing in enumerate(data['ingredients']):\n",
    "        for i in ing:\n",
    "            if i in invert_indexes:\n",
    "                feats[index, invert_indexes[i]] = 1\n",
    "    return feats\n",
    "\n",
    "train_feats = create_feats(train)\n",
    "test_feats = create_feats(test)\n",
    "print train_feats.shape, test_feats.shape"
   ]
  },
  {
   "cell_type": "markdown",
   "metadata": {},
   "source": [
    "##d"
   ]
  },
  {
   "cell_type": "code",
   "execution_count": 6,
   "metadata": {
    "collapsed": false,
    "scrolled": true
   },
   "outputs": [
    {
     "name": "stdout",
     "output_type": "stream",
     "text": [
      "0.683536983959\n"
     ]
    }
   ],
   "source": [
    "from sklearn import cross_validation\n",
    "from sklearn.naive_bayes import BernoulliNB, GaussianNB\n",
    "\n",
    "\n",
    "def k_fold_accuracy(model):\n",
    "    kf = cross_validation.KFold(len(train))\n",
    "    labels = train['cuisine'].values\n",
    "    res = []\n",
    "\n",
    "    for train_index, test_index in kf:\n",
    "        train_fold, test_fold = train_feats[train_index], train_feats[test_index]\n",
    "        train_fold_label, test_fold_label = labels[train_index], labels[test_index]\n",
    "        model.fit(train_fold, train_fold_label)\n",
    "        res.append(model.score(test_fold, test_fold_label))\n",
    "    return sum(res) / len(res)\n",
    "\n",
    "print k_fold_accuracy(BernoulliNB())"
   ]
  },
  {
   "cell_type": "markdown",
   "metadata": {},
   "source": [
    "The average accuracy of Bernouli distribution naive bayes model is **0.68**."
   ]
  },
  {
   "cell_type": "code",
   "execution_count": 7,
   "metadata": {
    "collapsed": false
   },
   "outputs": [
    {
     "name": "stdout",
     "output_type": "stream",
     "text": [
      "0.38238547795\n"
     ]
    }
   ],
   "source": [
    "print k_fold_accuracy(GaussianNB())"
   ]
  },
  {
   "cell_type": "markdown",
   "metadata": {
    "collapsed": true
   },
   "source": [
    "The average accuracy of Bernouli distribution naive bayes model is **0.38**."
   ]
  },
  {
   "cell_type": "markdown",
   "metadata": {},
   "source": [
    "## e"
   ]
  },
  {
   "cell_type": "markdown",
   "metadata": {},
   "source": [
    "Bernouli prior assumption performs better. The reason is that Gaussian prior assumes the data has continuous probability distribution, while bernouli prior assumes the data has discrete probability distribution with taking the value 1 with success probability of p and the value 0 with failure probability of q=1-p. In the problem context, choosing bernouli prior is more suitable because choosing the feature given one class is more like a \"coin toss\" process."
   ]
  },
  {
   "cell_type": "markdown",
   "metadata": {},
   "source": [
    "## f"
   ]
  },
  {
   "cell_type": "code",
   "execution_count": 8,
   "metadata": {
    "collapsed": false
   },
   "outputs": [
    {
     "name": "stdout",
     "output_type": "stream",
     "text": [
      "0.775556896465\n"
     ]
    }
   ],
   "source": [
    "from sklearn.linear_model import LogisticRegression\n",
    "print k_fold_accuracy(LogisticRegression())"
   ]
  },
  {
   "cell_type": "markdown",
   "metadata": {
    "collapsed": true
   },
   "source": [
    "The average accuracy of logistic regression model is **0.78**."
   ]
  },
  {
   "cell_type": "code",
   "execution_count": 9,
   "metadata": {
    "collapsed": false
   },
   "outputs": [
    {
     "data": {
      "text/plain": [
       "LogisticRegression(C=1.0, class_weight=None, dual=False, fit_intercept=True,\n",
       "          intercept_scaling=1, max_iter=100, multi_class='ovr',\n",
       "          penalty='l2', random_state=None, solver='liblinear', tol=0.0001,\n",
       "          verbose=0)"
      ]
     },
     "execution_count": 9,
     "metadata": {},
     "output_type": "execute_result"
    }
   ],
   "source": [
    "model = LogisticRegression()\n",
    "model.fit(train_feats, train['cuisine'])"
   ]
  },
  {
   "cell_type": "code",
   "execution_count": 10,
   "metadata": {
    "collapsed": false
   },
   "outputs": [],
   "source": [
    "res = model.predict(test_feats)"
   ]
  },
  {
   "cell_type": "code",
   "execution_count": 11,
   "metadata": {
    "collapsed": false
   },
   "outputs": [],
   "source": [
    "test['cuisine'] = res"
   ]
  },
  {
   "cell_type": "code",
   "execution_count": 12,
   "metadata": {
    "collapsed": false
   },
   "outputs": [],
   "source": [
    "test[['id','cuisine']].to_csv('result.csv', index = False)"
   ]
  },
  {
   "cell_type": "markdown",
   "metadata": {},
   "source": [
    "![Kaggle Screenshot](./p1.png)"
   ]
  },
  {
   "cell_type": "markdown",
   "metadata": {
    "collapsed": true
   },
   "source": [
    "And we achieve 0.783 accurancy on kaggle's test set."
   ]
  }
 ],
 "metadata": {
  "kernelspec": {
   "display_name": "Python 2",
   "language": "python",
   "name": "python2"
  },
  "language_info": {
   "codemirror_mode": {
    "name": "ipython",
    "version": 2
   },
   "file_extension": ".py",
   "mimetype": "text/x-python",
   "name": "python",
   "nbconvert_exporter": "python",
   "pygments_lexer": "ipython2",
   "version": "2.7.10"
  }
 },
 "nbformat": 4,
 "nbformat_minor": 0
}
